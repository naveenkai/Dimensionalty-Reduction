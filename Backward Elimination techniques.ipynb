{
 "cells": [
  {
   "cell_type": "markdown",
   "id": "ab9dfe1f",
   "metadata": {},
   "source": [
    "## Backward elimination Techniques"
   ]
  },
  {
   "cell_type": "code",
   "execution_count": null,
   "id": "cca54b53",
   "metadata": {},
   "outputs": [],
   "source": [
    "def backward_elimination(model,X,Y,min_features):\n",
    "    elim_data = X[:]\n",
    "    r2_history = []\n",
    "    \n",
    "    base_r2 = return_r2(elim_data, Y, model)\n",
    "    print(\"base_r2 is \", base_r2)\n",
    "    \n",
    "    for i in range(X.shape[1] - min_features):\n",
    "        difference = -100\n",
    "        for var in elim_data.columns:\n",
    "            tmp = elim_data.drop(columns = [var])\n",
    "            r2 = return_r2(tmp, Y, model)\n",
    "            \n",
    "            \n",
    "            if (r2 - base_r2)> difference:\n",
    "                difference = r2 - base_r2\n",
    "                eliminate = var\n",
    "                new_r2 = r2\n",
    "                \n",
    "                \n",
    "            elim_data.drop(columns = [eliminate], inplace = True)\n",
    "            r2_history.append(new_r2)\n",
    "            print(eliminate, \"eliminated: new adj-r2 = \", new_r2)\n",
    "            base_r2 = new_r2\n",
    "            \n",
    "        return base_r2, r2_history, elim_data"
   ]
  },
  {
   "cell_type": "code",
   "execution_count": null,
   "id": "5c41729c",
   "metadata": {},
   "outputs": [],
   "source": [
    "from sklearn.linear_model import LinearRegression\n",
    "\n",
    "lr = LinearRegression(normalize = True)\n",
    "\n",
    "score, history, survived_data = backward_elimination(lr, Xtrain, Ytrain, 15)"
   ]
  },
  {
   "cell_type": "code",
   "execution_count": null,
   "id": "02dd5594",
   "metadata": {},
   "outputs": [],
   "source": [
    "from sklearn.linear_model import LinearRegression\n",
    "\n",
    "lr = LinearRegression(normalize = True)\n",
    "\n",
    "score, history, survived_data = backward_elimination(lr, Xtrain, Ytrain, 1)"
   ]
  },
  {
   "cell_type": "code",
   "execution_count": null,
   "id": "0cc3efb0",
   "metadata": {},
   "outputs": [],
   "source": [
    "plt.figure(figsize = (5,5), dpi =150)\n",
    "\n",
    "plt.plot(range(len(history),0,-1),history, color =\"red\")\n",
    "plt.xlabel(\"remaining features\")\n",
    "plt.ylabel(\"adj-r2 score\")\n",
    "plt.title(\"Backward elimination\")"
   ]
  }
 ],
 "metadata": {
  "kernelspec": {
   "display_name": "Python 3 (ipykernel)",
   "language": "python",
   "name": "python3"
  },
  "language_info": {
   "codemirror_mode": {
    "name": "ipython",
    "version": 3
   },
   "file_extension": ".py",
   "mimetype": "text/x-python",
   "name": "python",
   "nbconvert_exporter": "python",
   "pygments_lexer": "ipython3",
   "version": "3.9.13"
  }
 },
 "nbformat": 4,
 "nbformat_minor": 5
}
