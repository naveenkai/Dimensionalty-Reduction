{
 "cells": [
  {
   "cell_type": "markdown",
   "id": "a4ff55ff",
   "metadata": {},
   "source": [
    "## Adjusted R2 "
   ]
  },
  {
   "cell_type": "code",
   "execution_count": 1,
   "id": "213c6f6d",
   "metadata": {},
   "outputs": [],
   "source": [
    "## sklearn doesn't have adjusted R2 function, so we have to define it\n",
    "\n",
    "def adj_r2(datax,datay,predictions):\n",
    "    from sklearn.metrics import r2_score\n",
    "    R = r2_score(datay,predictions)\n",
    "    n = len(datay)\n",
    "    m = len(datax.columns)\n",
    "    adj_r = 1 - ((1-R)*(n-1))/(n-m-1)\n",
    "    return adj_R"
   ]
  },
  {
   "cell_type": "code",
   "execution_count": null,
   "id": "fbdefa56",
   "metadata": {},
   "outputs": [],
   "source": [
    "adj_r2(xtest, ytest,predictions)"
   ]
  },
  {
   "cell_type": "markdown",
   "id": "b5cd1a9b",
   "metadata": {},
   "source": [
    "## Forward selection techique"
   ]
  },
  {
   "cell_type": "code",
   "execution_count": null,
   "id": "4e9243ec",
   "metadata": {},
   "outputs": [],
   "source": [
    "def return_r2(X,Y,model):\n",
    "    model.fit(X,Y)\n",
    "    pred = model.predict(X)\n",
    "    m = len(X.columns)\n",
    "    r2 = adj_r2(m,Y,pred)\n",
    "    return r2"
   ]
  },
  {
   "cell_type": "code",
   "execution_count": 3,
   "id": "87ddd962",
   "metadata": {},
   "outputs": [],
   "source": [
    "def forward_selection(model,X,Y, max_features):\n",
    "    f_col = []\n",
    "    history = []\n",
    "    for i in range(max_features):\n",
    "        f_col.append(\"blank\")\n",
    "        tmp = f_col[:]\n",
    "        Rmax = -1\n",
    "        \n",
    "        for var in X.columns:\n",
    "            tmp[-1] = var\n",
    "            r2 = return_r2(X[tmp], Y, model)\n",
    "            if r2 >= Rmax:\n",
    "                Rmax = r2\n",
    "                f_col[-1] = var\n",
    "                elim = var\n",
    "                \n",
    "        print(\"Selected\",f_col[-1],\"with new r2= \", Rmax)\n",
    "        history.append(Ramx)\n",
    "        \n",
    "    return Ramx, history, X[f_col]"
   ]
  },
  {
   "cell_type": "code",
   "execution_count": null,
   "id": "ecd2cd5a",
   "metadata": {},
   "outputs": [],
   "source": [
    "from sklearn.linear_model import LinearRegression\n",
    "\n",
    "lr = LinearRegression(normailze = True)\n",
    "\n",
    "score, history, sel_data = forward_selection(lr, xtrain, ytrain,5)"
   ]
  }
 ],
 "metadata": {
  "kernelspec": {
   "display_name": "Python 3 (ipykernel)",
   "language": "python",
   "name": "python3"
  },
  "language_info": {
   "codemirror_mode": {
    "name": "ipython",
    "version": 3
   },
   "file_extension": ".py",
   "mimetype": "text/x-python",
   "name": "python",
   "nbconvert_exporter": "python",
   "pygments_lexer": "ipython3",
   "version": "3.9.13"
  }
 },
 "nbformat": 4,
 "nbformat_minor": 5
}
